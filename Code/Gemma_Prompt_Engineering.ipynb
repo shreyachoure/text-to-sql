{
  "nbformat": 4,
  "nbformat_minor": 0,
  "metadata": {
    "colab": {
      "provenance": [],
      "gpuType": "V100"
    },
    "kernelspec": {
      "name": "python3",
      "display_name": "Python 3"
    },
    "language_info": {
      "name": "python"
    },
    "accelerator": "GPU"
  },
  "cells": [
    {
      "cell_type": "markdown",
      "source": [
        "# Gemma - 2B Prompt Engineering"
      ],
      "metadata": {
        "id": "uEnyjuH-JBa7"
      }
    },
    {
      "cell_type": "code",
      "source": [
        "import pandas as pd"
      ],
      "metadata": {
        "id": "Q9wiEMEQA5Py"
      },
      "execution_count": 1,
      "outputs": []
    },
    {
      "cell_type": "code",
      "source": [
        "!pip install rouge\n",
        "!pip install evaluate"
      ],
      "metadata": {
        "id": "OdJIzmaVDhgw"
      },
      "execution_count": null,
      "outputs": []
    },
    {
      "cell_type": "code",
      "source": [
        "# Specify the model name\n",
        "model_name = \"google/gemma-2b\"\n",
        "\n",
        "# Load the base model\n",
        "base_model = AutoModelForCausalLM.from_pretrained(\n",
        "    model_name,\n",
        "    low_cpu_mem_usage=True,\n",
        "    return_dict=True,\n",
        "    torch_dtype=torch.float16,\n",
        ")\n",
        "\n",
        "# Load the tokenizer\n",
        "tokenizer = AutoTokenizer.from_pretrained(model_name, trust_remote_code=True)\n",
        "tokenizer.pad_token = tokenizer.eos_token\n",
        "tokenizer.padding_side = \"right\"\n"
      ],
      "metadata": {
        "id": "QD3TxVRqF7FB"
      },
      "execution_count": null,
      "outputs": []
    },
    {
      "cell_type": "code",
      "source": [
        "test_dataset_prompt_analysis = pd.read_csv('/content/test_dataset_prompt_engg.csv', encoding='ISO-8859-1')\n"
      ],
      "metadata": {
        "id": "a8mV8ngPA-Gt"
      },
      "execution_count": 7,
      "outputs": []
    },
    {
      "cell_type": "code",
      "source": [
        "print(len(test_dataset_prompt_analysis))"
      ],
      "metadata": {
        "colab": {
          "base_uri": "https://localhost:8080/"
        },
        "id": "X3pQykxAEj-3",
        "outputId": "485e0b97-2bbd-4371-ef7d-1bfce3ff06b1"
      },
      "execution_count": 11,
      "outputs": [
        {
          "output_type": "stream",
          "name": "stdout",
          "text": [
            "1001\n"
          ]
        }
      ]
    },
    {
      "cell_type": "code",
      "source": [
        "questions = test_dataset['question'].head(1000).tolist()\n",
        "contexts = test_dataset['context'].head(1000).tolist()\n",
        "\n",
        "prompts = [\n",
        "    f\"You are a SQL expert. Generate SQL query considering the question(in natural language) and context(schema of the database). Strictly stop after generating the query.\\nQuestion: {q}\\nContext: {c}\\nSQL Query:\"\n",
        "    for q, c in zip(questions, contexts)\n",
        "]\n",
        "\n",
        "print(len(prompts))"
      ],
      "metadata": {
        "id": "HHumfmjKGNVN"
      },
      "execution_count": null,
      "outputs": []
    },
    {
      "cell_type": "code",
      "source": [
        "import torch\n",
        "import pandas as pd\n",
        "\n",
        "extracted_queries = []\n",
        "batch_size = 5\n",
        "num_batches = len(prompts) // batch_size + (0 if len(prompts) % batch_size == 0 else 1)\n",
        "\n",
        "for i in range(num_batches):\n",
        "    batch_prompts = prompts[i * batch_size:(i + 1) * batch_size]\n",
        "    input_ids = tokenizer(batch_prompts, return_tensors=\"pt\", padding=True, truncation=True).to(\"cuda\")\n",
        "    outputs = model.generate(**input_ids, max_length=256, temperature=0)\n",
        "\n",
        "    for output in outputs:\n",
        "        answer = tokenizer.decode(output, skip_special_tokens=True)\n",
        "        pattern = r\"SQL Query:\\s*(.*)\"\n",
        "        extracted_query = re.search(pattern, answer)\n",
        "        if extracted_query:\n",
        "            extracted_queries.append(extracted_query.group(1))\n",
        "            print(extracted_query.group(1))\n",
        "        else:\n",
        "            extracted_queries.append(\"Query not found\")\n",
        "\n",
        "    # Free up memory after processing each batch\n",
        "    del input_ids\n",
        "    del outputs\n",
        "    torch.cuda.empty_cache()\n",
        "\n",
        "# Add the extracted queries to the DataFrame\n",
        "test_dataset.loc[test_dataset.head(len(extracted_queries)).index, 'gemma_query'] = extracted_queries\n"
      ],
      "metadata": {
        "id": "LKC-JC3vGN3S"
      },
      "execution_count": null,
      "outputs": []
    },
    {
      "cell_type": "code",
      "source": [
        "from rouge import Rouge\n",
        "from evaluate import load"
      ],
      "metadata": {
        "id": "sHQR29iuBpcJ"
      },
      "execution_count": 6,
      "outputs": []
    },
    {
      "cell_type": "code",
      "source": [
        "rouge = Rouge()\n",
        "metric = load(\"bleu\")\n",
        "\n",
        "for i in range(len(test_dataset_prompt_analysis)):\n",
        "    record = test_dataset_prompt_analysis.iloc[i]\n",
        "    hypothesis = record['gemma_output']\n",
        "    reference = record['answer']\n",
        "\n",
        "    # Ensure both hypothesis and reference are strings.\n",
        "    if not isinstance(hypothesis, str) or not isinstance(reference, str):\n",
        "        print(f\"Skipping index {i} due to type mismatch.\")\n",
        "        continue\n",
        "\n",
        "    scores = rouge.get_scores(hypothesis, reference, avg=False)\n",
        "    test_dataset_prompt_analysis.at[i, 'rouge1'] = scores[0]['rouge-1']['f']\n",
        "    test_dataset_prompt_analysis.at[i, 'rouge2'] = scores[0]['rouge-2']['f']\n",
        "    test_dataset_prompt_analysis.at[i, 'rougeL'] = scores[0]['rouge-l']['f']\n",
        "    test_dataset_prompt_analysis.at[i, 'exact_match'] = int(hypothesis == reference)\n",
        "    test_dataset_prompt_analysis.at[i, 'bleu_score'] = metric.compute(predictions=[hypothesis], references=[[reference]])['bleu']\n",
        "\n",
        "# Display the first few rows to check the results\n",
        "print(test_dataset_prompt_analysis.head())\n",
        "\n",
        "# Save the DataFrame to a CSV file\n",
        "test_dataset_prompt_analysis.to_csv('test_dataset_prompt_analysis.csv', index=False)"
      ],
      "metadata": {
        "colab": {
          "base_uri": "https://localhost:8080/"
        },
        "id": "cc1-4HaJBNW9",
        "outputId": "3c1c0ad9-c7f1-460e-9304-5f1508e0c22a"
      },
      "execution_count": 15,
      "outputs": [
        {
          "output_type": "stream",
          "name": "stdout",
          "text": [
            "Skipping index 2 due to type mismatch.\n",
            "Skipping index 25 due to type mismatch.\n",
            "Skipping index 46 due to type mismatch.\n",
            "Skipping index 215 due to type mismatch.\n",
            "Skipping index 269 due to type mismatch.\n",
            "Skipping index 433 due to type mismatch.\n",
            "Skipping index 461 due to type mismatch.\n",
            "Skipping index 462 due to type mismatch.\n",
            "Skipping index 491 due to type mismatch.\n",
            "Skipping index 674 due to type mismatch.\n",
            "Skipping index 721 due to type mismatch.\n",
            "Skipping index 821 due to type mismatch.\n",
            "Skipping index 855 due to type mismatch.\n",
            "Skipping index 868 due to type mismatch.\n",
            "Skipping index 896 due to type mismatch.\n",
            "Skipping index 914 due to type mismatch.\n",
            "Skipping index 925 due to type mismatch.\n",
            "Skipping index 1000 due to type mismatch.\n",
            "                                              answer  \\\n",
            "0  SELECT MIN(laps) FROM table_name_8 WHERE grid ...   \n",
            "1  SELECT senior_status FROM table_name_18 WHERE ...   \n",
            "2  SELECT MAX(rank) FROM table_name_98 WHERE reac...   \n",
            "3  SELECT narrated_by FROM table_26168687_3 WHERE...   \n",
            "4  SELECT original_season FROM table_name_15 WHER...   \n",
            "\n",
            "                                            question  \\\n",
            "0  What was the number of Laps with a Grid of mor...   \n",
            "1  Which Senior status has a Chief Judge of â, ...   \n",
            "2  Which Rank has a Reaction of 0.198, and a Time...   \n",
            "3  Who narrated when the vessel operator is de be...   \n",
            "4          What's the original season in 11th place?   \n",
            "\n",
            "                                             context  \\\n",
            "0  CREATE TABLE table_name_8 (laps INTEGER, grid ...   \n",
            "1  CREATE TABLE table_name_18 (senior_status VARC...   \n",
            "2  CREATE TABLE table_name_98 (rank INTEGER, reac...   \n",
            "3  CREATE TABLE table_26168687_3 (narrated_by VAR...   \n",
            "4  CREATE TABLE table_name_15 (original_season VA...   \n",
            "\n",
            "                                        gemma_output    rouge1    rouge2  \\\n",
            "0  SELECT laps, grid, time FROM table_name_8 WHER...  0.740741  0.615385   \n",
            "1  SELECT * FROM table_name_18 WHERE senior_statu...  0.714286  0.411765   \n",
            "2                                                NaN      None      None   \n",
            "3  SELECT narrated_by FROM table_26168687_3 WHERE...  0.777778      0.75   \n",
            "4  SELECT original_season FROM table_name_15 WHER...  0.823529       0.8   \n",
            "\n",
            "     rougeL exact_match bleu_score  \n",
            "0  0.740741           0     0.6156  \n",
            "1  0.428571           0   0.515942  \n",
            "2      None        None       None  \n",
            "3  0.777778           0   0.773652  \n",
            "4  0.823529           0   0.742002  \n"
          ]
        }
      ]
    },
    {
      "cell_type": "code",
      "source": [
        "\n",
        "# Calculate the average of each score column\n",
        "average_rouge1 = test_dataset_prompt_analysis['rouge1'].mean()\n",
        "average_rouge2 = test_dataset_prompt_analysis['rouge2'].mean()\n",
        "average_rougeL = test_dataset_prompt_analysis['rougeL'].mean()\n",
        "average_exact_match = test_dataset_prompt_analysis['exact_match'].mean()\n",
        "average_bleu_score = test_dataset_prompt_analysis['bleu_score'].mean()\n",
        "\n",
        "# Print the average scores\n",
        "print(f'Average Rouge-1: {average_rouge1}')\n",
        "print(f'Average Rouge-2: {average_rouge2}')\n",
        "print(f'Average Rouge-L: {average_rougeL}')\n",
        "print(f'Average Exact Match: {average_exact_match}')\n",
        "print(f'Average BLEU Score: {average_bleu_score}')\n"
      ],
      "metadata": {
        "colab": {
          "base_uri": "https://localhost:8080/"
        },
        "id": "-Mcym7b2Dx0s",
        "outputId": "0a671f1f-33b6-4eb3-8195-c3ee9e476013"
      },
      "execution_count": 16,
      "outputs": [
        {
          "output_type": "stream",
          "name": "stdout",
          "text": [
            "Average Rouge-1: 0.6645551622505645\n",
            "Average Rouge-2: 0.4784923049077917\n",
            "Average Rouge-L: 0.634790137322244\n",
            "Average Exact Match: 0.003051881993896236\n",
            "Average BLEU Score: 0.5145147051114702\n"
          ]
        }
      ]
    },
    {
      "cell_type": "code",
      "source": [
        "# prompt: can you generate visualization for above average scores\n",
        "\n",
        "import matplotlib.pyplot as plt\n",
        "\n",
        "# Prepare data\n",
        "labels = ['Rouge-1', 'Rouge-2', 'Rouge-L', 'Exact Match', 'BLEU Score']\n",
        "average_scores = [average_rouge1, average_rouge2, average_rougeL, average_exact_match, average_bleu_score]\n",
        "\n",
        "# Create bar chart\n",
        "plt.figure(figsize=(8, 6))\n",
        "plt.bar(labels, average_scores, color='blue')\n",
        "plt.xlabel('Metrics', fontsize=12)\n",
        "plt.ylabel('Average Score', fontsize=12)\n",
        "plt.title('Average Scores for GEMMA-2B on Test Dataset: Prompt Engineering', fontsize=14)\n",
        "plt.ylim(0, 1)\n",
        "plt.tight_layout()\n",
        "\n",
        "# Display the plot\n",
        "plt.show()\n",
        "\n",
        "# Save the plot as an image\n",
        "plt.savefig('average_scores_gemma2b_head1000.png')\n"
      ],
      "metadata": {
        "colab": {
          "base_uri": "https://localhost:8080/",
          "height": 624
        },
        "id": "UI7wUanvFxmM",
        "outputId": "7bc043f1-7ddf-49b6-8ac5-22c6b6ac01ea"
      },
      "execution_count": 18,
      "outputs": [
        {
          "output_type": "display_data",
          "data": {
            "text/plain": [
              "<Figure size 800x600 with 1 Axes>"
            ],
            "image/png": "[encoded data removed]"
          },
          "metadata": {}
        },
        {
          "output_type": "display_data",
          "data": {
            "text/plain": [
              "<Figure size 640x480 with 0 Axes>"
            ]
          },
          "metadata": {}
        }
      ]
    }
  ]
}